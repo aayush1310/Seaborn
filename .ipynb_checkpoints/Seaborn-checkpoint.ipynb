{
 "cells": [
  {
   "cell_type": "markdown",
   "metadata": {},
   "source": [
    "## 1. Numerical Data Plotting"
   ]
  },
  {
   "cell_type": "raw",
   "metadata": {},
   "source": [
    "replot()\n",
    "scatterplot()\n",
    "lineplot()"
   ]
  },
  {
   "cell_type": "markdown",
   "metadata": {},
   "source": [
    "## 2. Categorical Data Plotting"
   ]
  },
  {
   "cell_type": "raw",
   "metadata": {},
   "source": [
    "catplot()\n",
    "boxplot()\n",
    "stripplot()\n",
    "swarmplot()"
   ]
  },
  {
   "cell_type": "markdown",
   "metadata": {},
   "source": [
    "## 3. Visualizing Distribution of Data"
   ]
  },
  {
   "cell_type": "raw",
   "metadata": {},
   "source": [
    "distplot()\n",
    "kdeplot()\n",
    "jointplot()\n",
    "rugplot()"
   ]
  },
  {
   "cell_type": "markdown",
   "metadata": {},
   "source": [
    "## 4. Linear Regression and Relationship"
   ]
  },
  {
   "cell_type": "raw",
   "metadata": {},
   "source": [
    "regplot()\n",
    "implot()"
   ]
  },
  {
   "cell_type": "markdown",
   "metadata": {},
   "source": [
    "## 5. Controlling Plotted Figure Aesthetics"
   ]
  },
  {
   "cell_type": "raw",
   "metadata": {},
   "source": [
    "figure styling\n",
    "axes styling \n",
    "color palettes\n",
    "etc..."
   ]
  },
  {
   "cell_type": "code",
   "execution_count": 3,
   "metadata": {},
   "outputs": [],
   "source": [
    "import seaborn as sns\n",
    "import pandas as pd\n",
    "import numpy as np\n",
    "import matplotlib.pyplot as plt\n",
    "%matplotlib inline"
   ]
  },
  {
   "cell_type": "code",
   "execution_count": 4,
   "metadata": {},
   "outputs": [],
   "source": [
    "sns.set(style='darkgrid')"
   ]
  },
  {
   "cell_type": "code",
   "execution_count": null,
   "metadata": {},
   "outputs": [],
   "source": []
  }
 ],
 "metadata": {
  "kernelspec": {
   "display_name": "Python 3",
   "language": "python",
   "name": "python3"
  },
  "language_info": {
   "codemirror_mode": {
    "name": "ipython",
    "version": 3
   },
   "file_extension": ".py",
   "mimetype": "text/x-python",
   "name": "python",
   "nbconvert_exporter": "python",
   "pygments_lexer": "ipython3",
   "version": "3.7.6"
  }
 },
 "nbformat": 4,
 "nbformat_minor": 4
}
